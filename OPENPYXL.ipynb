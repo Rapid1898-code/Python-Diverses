{
 "cells": [
  {
   "cell_type": "code",
   "execution_count": 2,
   "metadata": {},
   "outputs": [],
   "source": [
    "from openpyxl import load_workbook"
   ]
  },
  {
   "cell_type": "code",
   "execution_count": 3,
   "metadata": {},
   "outputs": [],
   "source": [
    "wb = load_workbook(\"Test.xlsx\")"
   ]
  },
  {
   "cell_type": "code",
   "execution_count": 4,
   "metadata": {},
   "outputs": [
    {
     "name": "stdout",
     "output_type": "stream",
     "text": [
      "<openpyxl.workbook.workbook.Workbook object at 0x0000018D5F05F208>\n"
     ]
    }
   ],
   "source": [
    "print(wb)"
   ]
  },
  {
   "cell_type": "code",
   "execution_count": 5,
   "metadata": {},
   "outputs": [
    {
     "name": "stdout",
     "output_type": "stream",
     "text": [
      "SHEET_A\n",
      "SHEET_B\n"
     ]
    }
   ],
   "source": [
    "# Loop through worksheet\n",
    "for sheet in wb:\n",
    "    print(sheet.title)"
   ]
  },
  {
   "cell_type": "code",
   "execution_count": 6,
   "metadata": {},
   "outputs": [],
   "source": [
    "ws = wb.active"
   ]
  },
  {
   "cell_type": "code",
   "execution_count": 7,
   "metadata": {},
   "outputs": [
    {
     "name": "stdout",
     "output_type": "stream",
     "text": [
      "<Cell 'SHEET_A'.A1>\n",
      "91\n",
      "97\n"
     ]
    }
   ],
   "source": [
    "# Ausgaben und Zuweisung\n",
    "print(ws[\"A1\"])\n",
    "print(ws[\"A1\"].value)\n",
    "ws[\"A1\"] = 97\n",
    "print(ws.cell(row=1, column=1).value)\n"
   ]
  },
  {
   "cell_type": "code",
   "execution_count": 8,
   "metadata": {},
   "outputs": [
    {
     "name": "stdout",
     "output_type": "stream",
     "text": [
      "97\n",
      "92\n",
      "93\n",
      "94\n",
      "1\n",
      "96\n",
      "97\n",
      "98\n",
      "99\n"
     ]
    }
   ],
   "source": [
    "# Durch bestimmten Zellbereich durchloopen\n",
    "cell_range = ws[\"A1\":\"C3\"]\n",
    "for row in cell_range:\n",
    "    for cell in row: print(cell.value)"
   ]
  },
  {
   "cell_type": "code",
   "execution_count": 9,
   "metadata": {},
   "outputs": [
    {
     "name": "stdout",
     "output_type": "stream",
     "text": [
      "93\n",
      "96\n",
      "99\n"
     ]
    }
   ],
   "source": [
    "# Durch Spalten loopen\n",
    "colC = ws[\"C\"]\n",
    "for cell in colC: print(cell.value)"
   ]
  },
  {
   "cell_type": "code",
   "execution_count": 10,
   "metadata": {},
   "outputs": [
    {
     "name": "stdout",
     "output_type": "stream",
     "text": [
      "97\n",
      "92\n",
      "93\n",
      "94\n",
      "1\n",
      "96\n",
      "97\n",
      "98\n",
      "99\n"
     ]
    }
   ],
   "source": [
    "# durch gesamtes Excel Sheet zeilenweise loopen\n",
    "for row in tuple(ws.rows):\n",
    "    for cell in row: print(cell.value)"
   ]
  },
  {
   "cell_type": "code",
   "execution_count": 11,
   "metadata": {},
   "outputs": [
    {
     "name": "stdout",
     "output_type": "stream",
     "text": [
      "(<Cell 'SHEET_A'.A1>, <Cell 'SHEET_A'.A2>, <Cell 'SHEET_A'.A3>)\n",
      "(<Cell 'SHEET_A'.B1>, <Cell 'SHEET_A'.B2>, <Cell 'SHEET_A'.B3>)\n",
      "(<Cell 'SHEET_A'.C1>, <Cell 'SHEET_A'.C2>, <Cell 'SHEET_A'.C3>)\n"
     ]
    }
   ],
   "source": [
    "# durch gesamtes Excel Sheet spaltenweise loopen\n",
    "for columns in tuple(ws.columns):\n",
    "    print(columns)"
   ]
  },
  {
   "cell_type": "code",
   "execution_count": 13,
   "metadata": {},
   "outputs": [],
   "source": [
    "# write workbook to XLSX\n",
    "wb.save(\"TEST2.xlsx\")"
   ]
  },
  {
   "cell_type": "code",
   "execution_count": 15,
   "metadata": {},
   "outputs": [
    {
     "name": "stdout",
     "output_type": "stream",
     "text": [
      "['SHEET_A', 'SHEET_B']\n"
     ]
    }
   ],
   "source": [
    "# read XLSX to workbook and print out all existing worksheet-names\n",
    "wb2 = load_workbook(\"TEST2.xlsx\")\n",
    "print (wb2.sheetnames)"
   ]
  },
  {
   "cell_type": "code",
   "execution_count": 25,
   "metadata": {},
   "outputs": [
    {
     "name": "stdout",
     "output_type": "stream",
     "text": [
      "(<Cell 'SHEET_A'.A1>, <Cell 'SHEET_A'.B1>, <Cell 'SHEET_A'.C1>)\n",
      "(<Cell 'SHEET_A'.A2>, <Cell 'SHEET_A'.B2>, <Cell 'SHEET_A'.C2>)\n",
      "(<Cell 'SHEET_A'.A3>, <Cell 'SHEET_A'.B3>, <Cell 'SHEET_A'.C3>)\n",
      "(<Cell 'SHEET_A'.A4>, <Cell 'SHEET_A'.B4>, <Cell 'SHEET_A'.C4>)\n",
      "(<Cell 'SHEET_A'.A5>, <Cell 'SHEET_A'.B5>, <Cell 'SHEET_A'.C5>)\n"
     ]
    }
   ],
   "source": [
    "ws = wb.active\n",
    "for rows in ws.rows: print (rows)"
   ]
  },
  {
   "cell_type": "code",
   "execution_count": 26,
   "metadata": {},
   "outputs": [
    {
     "name": "stdout",
     "output_type": "stream",
     "text": [
      "(<Cell 'SHEET_A'.A1>, <Cell 'SHEET_A'.B1>, <Cell 'SHEET_A'.C1>)\n",
      "(<Cell 'SHEET_A'.A2>, <Cell 'SHEET_A'.B2>, <Cell 'SHEET_A'.C2>)\n",
      "(<Cell 'SHEET_A'.A3>, <Cell 'SHEET_A'.B3>, <Cell 'SHEET_A'.C3>)\n",
      "(<Cell 'SHEET_A'.A4>, <Cell 'SHEET_A'.B4>, <Cell 'SHEET_A'.C4>)\n",
      "(<Cell 'SHEET_A'.A5>, <Cell 'SHEET_A'.B5>, <Cell 'SHEET_A'.C5>)\n",
      "(<Cell 'SHEET_A'.A6>, <Cell 'SHEET_A'.B6>, <Cell 'SHEET_A'.C6>)\n"
     ]
    }
   ],
   "source": [
    "# insert row vor Zeile 1\n",
    "ws.insert_rows(1)\n",
    "for rows in ws.rows: print (rows)"
   ]
  },
  {
   "cell_type": "code",
   "execution_count": 34,
   "metadata": {},
   "outputs": [
    {
     "name": "stdout",
     "output_type": "stream",
     "text": [
      "(<Cell 'SHEET_A'.A1>,)\n",
      "(<Cell 'SHEET_A'.A2>,)\n",
      "(<Cell 'SHEET_A'.A3>,)\n"
     ]
    }
   ],
   "source": [
    "# insert einer Spalte\n",
    "ws.insert_cols(2,3)\n",
    "for rows in ws.rows: print (rows)"
   ]
  },
  {
   "cell_type": "code",
   "execution_count": 35,
   "metadata": {},
   "outputs": [
    {
     "name": "stdout",
     "output_type": "stream",
     "text": [
      "(<Cell 'SHEET_A'.A1>,)\n",
      "(<Cell 'SHEET_A'.A2>,)\n",
      "(<Cell 'SHEET_A'.A3>,)\n"
     ]
    }
   ],
   "source": [
    "# delete 1 column\n",
    "ws.delete_cols(2)\n",
    "for rows in ws.rows: print (rows)"
   ]
  },
  {
   "cell_type": "code",
   "execution_count": 36,
   "metadata": {},
   "outputs": [
    {
     "name": "stdout",
     "output_type": "stream",
     "text": [
      "(<Cell 'SHEET_A'.A1>,)\n"
     ]
    }
   ],
   "source": [
    "# delete rows\n",
    "ws.delete_rows(2,3)\n",
    "for rows in ws.rows: print (rows)"
   ]
  },
  {
   "cell_type": "code",
   "execution_count": 40,
   "metadata": {},
   "outputs": [
    {
     "name": "stdout",
     "output_type": "stream",
     "text": [
      "(<Cell 'SHEET_A'.A1>, <Cell 'SHEET_A'.B1>, <Cell 'SHEET_A'.C1>)\n",
      "(<Cell 'SHEET_A'.A2>, <Cell 'SHEET_A'.B2>, <Cell 'SHEET_A'.C2>)\n",
      "(<Cell 'SHEET_A'.A3>, <Cell 'SHEET_A'.B3>, <Cell 'SHEET_A'.C3>)\n"
     ]
    }
   ],
   "source": [
    "wb = load_workbook(\"Test2.xlsx\")\n",
    "for rows in wb.active.rows: print (rows)"
   ]
  },
  {
   "cell_type": "code",
   "execution_count": 41,
   "metadata": {},
   "outputs": [],
   "source": [
    "# eigenen Highlight Style definieren\n",
    "from openpyxl.styles import NamedStyle, Font, Border, Side\n",
    "highlight = NamedStyle(name=\"highlight\")\n",
    "highlight.font = Font(bold=True, size=20)\n",
    "bd = Side(style='thick', color=\"000000\")\n",
    "highlight.border = Border(left=bd, top=bd, right=bd, bottom=bd)"
   ]
  },
  {
   "cell_type": "code",
   "execution_count": 44,
   "metadata": {},
   "outputs": [
    {
     "ename": "ValueError",
     "evalue": "Style highlight exists already",
     "output_type": "error",
     "traceback": [
      "\u001b[1;31m---------------------------------------------------------------------------\u001b[0m",
      "\u001b[1;31mValueError\u001b[0m                                Traceback (most recent call last)",
      "\u001b[1;32m<ipython-input-44-2f323ed62b80>\u001b[0m in \u001b[0;36m<module>\u001b[1;34m\u001b[0m\n\u001b[1;32m----> 1\u001b[1;33m \u001b[0mwb\u001b[0m\u001b[1;33m.\u001b[0m\u001b[0madd_named_style\u001b[0m\u001b[1;33m(\u001b[0m\u001b[0mhighlight\u001b[0m\u001b[1;33m)\u001b[0m\u001b[1;33m\u001b[0m\u001b[1;33m\u001b[0m\u001b[0m\n\u001b[0m\u001b[0;32m      2\u001b[0m \u001b[0mws\u001b[0m \u001b[1;33m=\u001b[0m \u001b[0mwb\u001b[0m\u001b[1;33m.\u001b[0m\u001b[0mactive\u001b[0m\u001b[1;33m\u001b[0m\u001b[1;33m\u001b[0m\u001b[0m\n",
      "\u001b[1;32mc:\\users\\polzi\\appdata\\local\\programs\\python\\python37\\lib\\site-packages\\openpyxl\\workbook\\workbook.py\u001b[0m in \u001b[0;36madd_named_style\u001b[1;34m(self, style)\u001b[0m\n\u001b[0;32m    327\u001b[0m         \u001b[0mAdd\u001b[0m \u001b[0ma\u001b[0m \u001b[0mnamed\u001b[0m \u001b[0mstyle\u001b[0m\u001b[1;33m\u001b[0m\u001b[1;33m\u001b[0m\u001b[0m\n\u001b[0;32m    328\u001b[0m         \"\"\"\n\u001b[1;32m--> 329\u001b[1;33m         \u001b[0mself\u001b[0m\u001b[1;33m.\u001b[0m\u001b[0m_named_styles\u001b[0m\u001b[1;33m.\u001b[0m\u001b[0mappend\u001b[0m\u001b[1;33m(\u001b[0m\u001b[0mstyle\u001b[0m\u001b[1;33m)\u001b[0m\u001b[1;33m\u001b[0m\u001b[1;33m\u001b[0m\u001b[0m\n\u001b[0m\u001b[0;32m    330\u001b[0m         \u001b[0mstyle\u001b[0m\u001b[1;33m.\u001b[0m\u001b[0mbind\u001b[0m\u001b[1;33m(\u001b[0m\u001b[0mself\u001b[0m\u001b[1;33m)\u001b[0m\u001b[1;33m\u001b[0m\u001b[1;33m\u001b[0m\u001b[0m\n\u001b[0;32m    331\u001b[0m \u001b[1;33m\u001b[0m\u001b[0m\n",
      "\u001b[1;32mc:\\users\\polzi\\appdata\\local\\programs\\python\\python37\\lib\\site-packages\\openpyxl\\styles\\named_styles.py\u001b[0m in \u001b[0;36mappend\u001b[1;34m(self, style)\u001b[0m\n\u001b[0;32m    191\u001b[0m             \u001b[1;32mraise\u001b[0m \u001b[0mTypeError\u001b[0m\u001b[1;33m(\u001b[0m\u001b[1;34m\"\"\"Only NamedStyle instances can be added\"\"\"\u001b[0m\u001b[1;33m)\u001b[0m\u001b[1;33m\u001b[0m\u001b[1;33m\u001b[0m\u001b[0m\n\u001b[0;32m    192\u001b[0m         \u001b[1;32melif\u001b[0m \u001b[0mstyle\u001b[0m\u001b[1;33m.\u001b[0m\u001b[0mname\u001b[0m \u001b[1;32min\u001b[0m \u001b[0mself\u001b[0m\u001b[1;33m.\u001b[0m\u001b[0mnames\u001b[0m\u001b[1;33m:\u001b[0m\u001b[1;33m\u001b[0m\u001b[1;33m\u001b[0m\u001b[0m\n\u001b[1;32m--> 193\u001b[1;33m             \u001b[1;32mraise\u001b[0m \u001b[0mValueError\u001b[0m\u001b[1;33m(\u001b[0m\u001b[1;34m\"\"\"Style {0} exists already\"\"\"\u001b[0m\u001b[1;33m.\u001b[0m\u001b[0mformat\u001b[0m\u001b[1;33m(\u001b[0m\u001b[0mstyle\u001b[0m\u001b[1;33m.\u001b[0m\u001b[0mname\u001b[0m\u001b[1;33m)\u001b[0m\u001b[1;33m)\u001b[0m\u001b[1;33m\u001b[0m\u001b[1;33m\u001b[0m\u001b[0m\n\u001b[0m\u001b[0;32m    194\u001b[0m         \u001b[0mstyle\u001b[0m\u001b[1;33m.\u001b[0m\u001b[0m_set_index\u001b[0m\u001b[1;33m(\u001b[0m\u001b[0mlen\u001b[0m\u001b[1;33m(\u001b[0m\u001b[0mself\u001b[0m\u001b[1;33m)\u001b[0m\u001b[1;33m)\u001b[0m\u001b[1;33m\u001b[0m\u001b[1;33m\u001b[0m\u001b[0m\n\u001b[0;32m    195\u001b[0m         \u001b[0msuper\u001b[0m\u001b[1;33m(\u001b[0m\u001b[0mNamedStyleList\u001b[0m\u001b[1;33m,\u001b[0m \u001b[0mself\u001b[0m\u001b[1;33m)\u001b[0m\u001b[1;33m.\u001b[0m\u001b[0mappend\u001b[0m\u001b[1;33m(\u001b[0m\u001b[0mstyle\u001b[0m\u001b[1;33m)\u001b[0m\u001b[1;33m\u001b[0m\u001b[1;33m\u001b[0m\u001b[0m\n",
      "\u001b[1;31mValueError\u001b[0m: Style highlight exists already"
     ]
    }
   ],
   "source": [
    "# Style registrieren\n",
    "wb.add_named_style(highlight)\n",
    "ws = wb.active"
   ]
  },
  {
   "cell_type": "code",
   "execution_count": 45,
   "metadata": {},
   "outputs": [],
   "source": [
    "# Style einer Zellezuweisen\n",
    "ws[\"A1\"].style=highlight"
   ]
  },
  {
   "cell_type": "code",
   "execution_count": 46,
   "metadata": {},
   "outputs": [],
   "source": [
    "# Veränderung speichern\n",
    "wb.save(\"TEST1.xlsx\")"
   ]
  }
 ],
 "metadata": {
  "kernelspec": {
   "display_name": "Python 3",
   "language": "python",
   "name": "python3"
  },
  "language_info": {
   "codemirror_mode": {
    "name": "ipython",
    "version": 3
   },
   "file_extension": ".py",
   "mimetype": "text/x-python",
   "name": "python",
   "nbconvert_exporter": "python",
   "pygments_lexer": "ipython3",
   "version": "3.7.7"
  }
 },
 "nbformat": 4,
 "nbformat_minor": 4
}
