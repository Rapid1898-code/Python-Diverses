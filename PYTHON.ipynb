{
 "cells": [
  {
   "cell_type": "code",
   "execution_count": null,
   "metadata": {},
   "outputs": [],
   "source": [
    "#OPERATOREN und INPUT\n",
    "5 // 2                          # Ergebnis ohne Nachkomma (2)\n",
    "7 % 2                           # Modulo / Rest der Division (1)\n",
    "d,e,f = 4,5,6                   # Zuweisung von mehreren Variablen\n",
    "a,b = b,a                       # Vertauscht 2 Werte\n",
    "a += 1                          # Wert um 1 erhöhen\n",
    "round (77.2321, 2)              # Wert wird auf 2 Nachkommastellen gerundet => 77.23\n",
    "random.randint(1,6)             # Zufallszahl zwischen 1 und 6 wie ein Würfel (import random wird benötigt)\n",
    "random.choice(list)             # Zufallseintrag aus einer Liste wird gewählt (import random wird benötigt)\n",
    "str(5), float(\"5\"), int(\"5\")    # Umwandlung auf String / Float / Int\n",
    "abs(-2)                         # Absolutwert wird ausgegeben => 2\n",
    "int(input(\"Alter?\"))            # Eingabe des Alters und Umwandlung in int\n",
    "type(var)                       # Gibt den Type einer Variable aus"
   ]
  },
  {
   "cell_type": "code",
   "execution_count": null,
   "metadata": {},
   "outputs": [],
   "source": [
    "#STRING\n",
    "s = \"das ist ein Test\"\n",
    "\"{} können {} werden\".format(\"Strings\", \"formatiert\")                    # Variablen einfügen\n",
    "\"{0} mag, {0} besonders mag {0} aber {1}\".format(\"Hans\", \"Nudeln\")       # Mehrfachverwendung\n",
    "s.count (\"i\")           # Zählt das Auftreten eines Texts\n",
    "s.find (\"ist\")          # gibt den Index aus wo der Text gefunden wird\n",
    "s.lower()               # ganzen String verkleinern\n",
    "s.upper()               # ganzen String vergrößern\n",
    "s.capitalize()          # Ersten Buchstaben vergrößern\n",
    "s.title()               # Erster Buchstabe aller Wörter wird vergrößert\n",
    "s.split()               # Wörter werden gesplittet und in List ausgegeben lt. angegebenen Trennzeichen\n",
    "s.splitlines()          # Sätze werden nach line breaks gesplittet\n",
    "s.strip()               # entfernt alle Leerzeichen davor und danach\n",
    "s.replace(\"e\",\"X\")      # ersetzt 2 Zeichen\n",
    "s.isdigit()             # TRUE wenn gesamter String aus Zahlen besteht"
   ]
  },
  {
   "cell_type": "code",
   "execution_count": null,
   "metadata": {},
   "outputs": [],
   "source": [
    "#LISTEN und TUPEL\n",
    "l = []                                        # leere Liste\n",
    "l = [4,5,6]                                   # Definition einer Liste\n",
    "l = [x for x in range(20)]                    # Definition einer Liste mit List Comprehension - Ausgabe: Liste von 0 bis 19\n",
    "l = [x.upper( for x in l)]                    # Großschreibung aller Inhalte der Liste\n",
    "l.append(1)                                   # Liste um 1 Element erweitern\n",
    "l.extend([6,5,4])                             # Liste um mehrere Elemente erweitern\n",
    "l.insert(3, 99)                               # Insert eines Elementes an der Index-Position 3\n",
    "l.pop()                                       # letztes Element entfernen\n",
    "l.pop(0)                                      # erstes Element entfernen\n",
    "l.sort()                                      # Liste aufsteigend sortieren\n",
    "l.sort(reverse=True)                          # Liste absteigend sortieren\n",
    "l_sort = sorted(l)                            # Liste sortieren und in eigener Liste speichern\n",
    "l.reverse()                                   # Listeninhalt umdrehen\n",
    "del l[2]                                      # Element an der Indexstelle 2 wird gelöscht\n",
    "l.remove(7)                                   # Element mit diesem Inhalt wird gelöscht\n",
    "min(l)                                        # kleinstes Element der Liste\n",
    "max(l)                                        # größtes Element der Liste\n",
    "sum(l)                                        # Summer über alle Listenelemente\n",
    "len(l)                                        # Anzahl der Elemente in der Liste\n",
    "l2 = l[:]                                     # Kopieren einer Liste (bei normaler Zuweisung mit = erfolgt Änderung in beiden\n",
    "l2 = list(l)                                  # Kopieren einer Liste - zweite Variante\n",
    "l[0]                                          # erstes Element\n",
    "l[-1]                                         # letztes Element\n",
    "l[-3:]                                        # letzten 3 Elemente\n",
    "l[2:4]                                        # Elemente an Indexstelle 2 bis 3 ausgeben\n",
    "l[:2]                                         # bis exklusive Indexstelle 2 alles ausgeben\n",
    "l[2:]                                         # ab Indexstelle 2 alles ausgeben\n",
    "l[::2]                                        # alle 2 Elemente [Start:Ende:Schritt]\n",
    "9 in l                                        # Abfrage ob Element in Liste\n",
    "for i in l:                                   # Iteration über die Inhalte einer Liste\n",
    "for i in range(len(l)):                       # Iteration durch die Anzahl der Element von 0 bis n\n",
    "for idx, cont in enumerate(l):                # Iteration mit Index und Inhalt (Index in idx und Inhalt in cont)"
   ]
  },
  {
   "cell_type": "code",
   "execution_count": null,
   "metadata": {},
   "outputs": [],
   "source": [
    "#DICTIONARY     KEY/VALUE-Inhalt\n",
    "d = {}                                               # leere Initialisierung\n",
    "d = {\"one\": 1, \"two\": 2, \"three\": 3}                 # Initialisierung mit Inhalt\n",
    "d[\"two\"]                                             # Zugriff mit Key-Element\n",
    "list(d.keys())                                       # Keys in Liste auslesen\n",
    "list(d.values())                                     # Values in Liste auslesen\n",
    "len(d)                                               # Anzahl der Einträge im Dict\n",
    "\"three\" in d                                         # Check ob Key in Dict vorhanden (True / False)\n",
    "d[\"four\"] = 4                                        # Neuer Wert im Dict anlegen\n",
    "del d[\"one\"]                                         # bestimmten Key löschen\n",
    "for key in d.keys():                                 # Iteration durch alle Keys des Dict\n",
    "for key in sorted(d.keys()):                         # Iteration durch alle sortierten Keys es Dict\n",
    "for val in d.values():                               # Iteration durch alle Values des Dict\n",
    "for key, val in d.items():                           # Iteration durch Keys+Values des Dict\n",
    "{k: v for k, v in sorted(chars.items(),              # Dict absteigend sortieren nach Value\n",
    "         key=lambda item: item[1], reverse=True)}  \n",
    "{k: v for k, v in sorted(chars.items(),              # Dict sortiert: Zuerst Value absteigend x[0] - dann Key aufsteigend -x[0]\n",
    "         key=lambda x: (-x[1],x[0]))}"
   ]
  },
  {
   "cell_type": "code",
   "execution_count": null,
   "metadata": {},
   "outputs": [],
   "source": [
    "#SETS     ELEMENT kann nur EINMAL VORKOMMEN\n",
    "s = set()               # leere Initialisierung\n",
    "s = {1,1,2,2,3,4}       # Initialisierung mit Inhalt      \n",
    "s2 = {1,7,8}            # Zweites Set anlegen\n",
    "s.add(5)                # Element im Set1 ergänzen\n",
    "s & s2                  # Schnittmenge von Set1 und Set2 wird gebildet\n",
    "s | s2                  # Vereinigungsmenge von Set1 und Set2 wird gebildet\n",
    "s - s2                  # Differenzmenge von Set1 und Set2 wird gebildet\n",
    "3 in s                  # Check ob Element in Set vorhanden"
   ]
  },
  {
   "cell_type": "code",
   "execution_count": null,
   "metadata": {},
   "outputs": [],
   "source": [
    "# KONTROLLSTRUKTUREN und ITERATIONEN\n",
    "if x>10: pass                # IF / ELIF / ELSE Abfrage\n",
    "elif x> 10: pass\n",
    "else: pass\n",
    "\n",
    "for i in range(5):           # 5 Iterationen von 0 bis 4\n",
    "for i in range(0, 5, 1)      # 5 Iterationen (Start, Ende, Schritt)\n",
    "for i in range(4, -1, -1)    # Iterationn absteigend von 4 bis 0\n",
    "\n",
    "while x < 4:                 # While-Schleife mit Abbruchbedingung\n",
    "while True:                  # Endlosschleife - muss mit Break irgendwann abgebrochen werden   \n",
    "break                        # Schleife wird abgebrochen\n",
    "continue                     # Aktueller Schleifendurchlauf wird abgebrochen"
   ]
  },
  {
   "cell_type": "code",
   "execution_count": null,
   "metadata": {},
   "outputs": [],
   "source": [
    "# FUNKTIONEN\n",
    "def add(x=0,y=0):              # Funktion definieren - mit Defaultwertn 0 wenn nichts angegeben wird\n",
    "    erg = x+y                  # Berechnung durchführen\n",
    "    return erg                 # Rückgabewert der Funktion\n",
    "\n",
    "def pet (animal, name=None)    # Optionales Argument - erstes Argument animal muss vorhanden sein - Name ist optional\n",
    "    pass\n",
    "\n",
    "def varargs(*args):            # Definition einer Funktion mit beliebig vielen Schlüsselwort-Argumenten\n",
    "    print(args)\n",
    "varargs(1,2,3)                 # Ausgabe von (1,2,3)\n",
    "\n",
    "def keyword_args(**kwargs):\n",
    "    print(kwargs)\n",
    "keyword_args(\"a\"=3, \"b\"=4)     # Ausgabe von {\"a\":3, \"b\":4}  "
   ]
  },
  {
   "cell_type": "code",
   "execution_count": null,
   "metadata": {},
   "outputs": [],
   "source": [
    "# KLASSEN\n",
    "class Human(object):           # Definition einer Klasse\n",
    "    species = \"Homo Sapiens\"   # Fixe Variable für alle Instanzen einer Klasse\n",
    "    def __init__(self,name):   # Konstruktor - wird bei Erstellung einer Instanz automatisch angewandt\n",
    "        self.name = name\n",
    "    def say(self, msg):        # Methode der Klasse\n",
    "        return \"{name}: {message}\".format(name=self.name, message=msg)\n",
    "    @classmethod               # Eine Klassenmethode wird von allen Instanzen geteilt\n",
    "    def get_species(cls):\n",
    "        return cls.species\n",
    "    @staticmethod              # Eine statische Methode wird ohne Klasse oder Instanz aufgerufen\n",
    "    def grunt():\n",
    "        return \"*grunt*\"    \n",
    "    \n",
    "    \n",
    "i = Human(name=\"Ian\")          # Instanz der Klasse erstellen\n",
    "print(i.say(\"Hi\"))             # Aufruf der Methode der KLasse => Ausgabe: \"Ian: Hi\"\n",
    "j = Human(name=\"Joel\")         # Weitere Instanz der Klasse erstellen\n",
    "print(i.say(\"Hallo\"))          # Aufruf der Methode der KLasse => Ausgabe: \"Joel: Hallo\"\n",
    "i.get_species()                # Ausgabe von \"Homo Sapiens\"\n",
    "j.get_species()                # Genauso Ausgabe von \"Homo Sapiens\"\n",
    "Human.species = \"Was Neues\"    # Änderung der Klassenvariable - gilt dann für alle Instanzen\n",
    "Human.grant()                  # Aufruf der statischen Methode => Ausgabe: \"*grund*\" "
   ]
  },
  {
   "cell_type": "code",
   "execution_count": null,
   "metadata": {},
   "outputs": [],
   "source": [
    "# MODULE\n",
    "import math               # Python Modul importieren\n",
    "from math import ceil     # Bestimmte Funktion eines Python Moduls importieren\n",
    "import numpy as np          # Import eines Moduls mit Abkürzung"
   ]
  },
  {
   "cell_type": "code",
   "execution_count": null,
   "metadata": {},
   "outputs": [],
   "source": [
    "# DATES (DATETIME)\n",
    "from datetime import datetime\n",
    "datetime.datetime.strptime(str, \"%d.%m.%Y\")                # Umwandlung eines Strings in Datetime mit Format dd.mm.jjjj\n",
    "datetime.datetime.strftime(dt, \"%d.%m.%Y\")                 # Umwandlung eines Datetime in String mit Format dd.mm.jjjj\n",
    "date = datetime.date(2020,7,24)                            # Datum wird angelegt als \"2020-07-24\"\n",
    "tday = datetime.date.today()                               # Aktuelles Tagesdatum anlegen\n",
    "tday.year, tday.month, tday.day                            # Jahr / Monat / Tag des aktuellen Datums\n",
    "tday.isoweekday()                                          # Gibt Wochentag aus (Montag=1 bis Sonntag=7)\n",
    "tdelta = datetime.timedelta(days=7)                        # Zeitdelta von 7 Tagen wird erstellt\n",
    "tday + tdelta                                              # zum heutigen Tag werden 7 Tage dazu gezählt\n",
    "date1-date2                                                # ergibt ein Zeitdelta von Datümern\n",
    "\n",
    "\n",
    "import timeit\n",
    "start = timeit.default_timer                               # Timer starten\n",
    "stop = timeit.default_timer                                # Timer stoppen\n",
    "round(stop-start/60,2)                                     # gestoppte Zeitausgeben in Minuten und auf 2NK gerundet"
   ]
  },
  {
   "cell_type": "code",
   "execution_count": null,
   "metadata": {},
   "outputs": [],
   "source": [
    "# FILES TXT,JSON\n",
    "fn = \"test.txt\"\n",
    "with open(fn) as f:                                       # Textfile lesen - Speicherung in Liste pro Zeile\n",
    "    lines = [x.strip() for x in f.readlines()]            # Sonderzeichen werden durch strip() entfernt\n",
    "with open(fn,\"w\") as obj: obj.write(\"Ein neuer Text\")     # Schreiben in ein Textfile\n",
    "with open(fn,\"a\") as obj: obj.write(\"\\nNoch ein Text\")    # Anhängen eines Textes in der nächsten Zeile\n",
    "    \n",
    "while True:                  # Try / Except Abfrage bei Dateispeicherung ob File geschrieben werden kann\n",
    "try:\n",
    "    writer.save ()    \n",
    "    break\n",
    "except Exception as e:\n",
    "    print (\"Error: \", e)\n",
    "    input (\"Datei kann nicht geöffnet werden - bitte schließen und <Enter> drücken!\")    \n",
    "    \n",
    "import json                                               # json-Modul importieren\n",
    "fn = \"numbers.json\"\n",
    "with open(fn,\"w\") as obj: json.dump(numbers, obj)         # Informationen werden im json-Format gespeichert\n",
    "with open(fn) as obj: numbers = json.load(obj)            # Informationen werden im json-Format gelesen"
   ]
  },
  {
   "cell_type": "code",
   "execution_count": null,
   "metadata": {},
   "outputs": [],
   "source": [
    "# FILES XLSX\n",
    "# Speicherung einer Nested List in XLSX\n",
    "import pandas as pd\n",
    "from openpyxl import load_workbook\n",
    "cont = [[row1_cell1, row1_cell2], [row2.cell1,row3_cell3]]        # Nested List mit Inhalt für Speicherung\n",
    "book = load_workbook (\"fn.xlsx\")                                  # bestehendes XLSX laden - auslassen bei Überschreibung\n",
    "writer = pd.ExcelWriter (\"fn.xlsx\", engine='openpyxl',            # writer von Pandas defnieren\n",
    "                         options={'strings_to_numbers': True})\n",
    "pd.DataFrame (cont).to_excel (writer, sheet_name=\"Worksheet\",     # Daten in XLSX und Worksheet übertragen\n",
    "                              header=False, index=False) \n",
    "writer.save()                                                     # Speicheurng des XLSX\n",
    "writer.close()"
   ]
  },
  {
   "cell_type": "code",
   "execution_count": null,
   "metadata": {},
   "outputs": [],
   "source": []
  }
 ],
 "metadata": {
  "kernelspec": {
   "display_name": "Python 3",
   "language": "python",
   "name": "python3"
  },
  "language_info": {
   "codemirror_mode": {
    "name": "ipython",
    "version": 3
   },
   "file_extension": ".py",
   "mimetype": "text/x-python",
   "name": "python",
   "nbconvert_exporter": "python",
   "pygments_lexer": "ipython3",
   "version": "3.7.7"
  }
 },
 "nbformat": 4,
 "nbformat_minor": 4
}
