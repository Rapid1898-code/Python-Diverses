{
 "cells": [
  {
   "cell_type": "code",
   "execution_count": null,
   "metadata": {},
   "outputs": [],
   "source": [
    "html_doc = \"\"\"\n",
    "<html><head><title>The Dormouse's story</title></head>\n",
    "<body>\n",
    "<p class=\"title\"><b>The Dormouse's story</b></p>\n",
    "\n",
    "<p class=\"story\">Once upon a time there were three little sisters; and their names were\n",
    "<a href=\"http://example.com/elsie\" class=\"sister\" id=\"link1\">Elsie</a>,\n",
    "<a href=\"http://example.com/lacie\" class=\"sister\" id=\"link2\">Lacie</a> and\n",
    "<a href=\"http://example.com/tillie\" class=\"sister\" id=\"link3\">Tillie</a>;\n",
    "and they lived at the bottom of a well.</p>\n",
    "\n",
    "<p class=\"story\">...</p>b\n",
    "\"\"\""
   ]
  },
  {
   "cell_type": "code",
   "execution_count": null,
   "metadata": {},
   "outputs": [],
   "source": [
    "from bs4 import BeautifulSoup\n",
    "soup = BeautifulSoup(html_doc, 'html.parser')\n",
    "print(soup.prettify())"
   ]
  },
  {
   "cell_type": "code",
   "execution_count": null,
   "metadata": {},
   "outputs": [],
   "source": [
    "soup.title.text"
   ]
  },
  {
   "cell_type": "code",
   "execution_count": null,
   "metadata": {},
   "outputs": [],
   "source": [
    "soup.title.parent.name"
   ]
  },
  {
   "cell_type": "code",
   "execution_count": null,
   "metadata": {},
   "outputs": [],
   "source": [
    "#Text von allen Paragraphs\n",
    "for i in soup.find_all(\"p\"):\n",
    "    print(i.text)"
   ]
  },
  {
   "cell_type": "code",
   "execution_count": null,
   "metadata": {},
   "outputs": [],
   "source": [
    "# Read with Requests when its possible due the specific homepage\n",
    "import requests\n",
    "from bs4 import BeautifulSoup\n",
    "\n",
    "page = requests.get (\"https://www.ariva.de\")\n",
    "soup = BeautifulSoup (page.content, \"html.parser\")\n",
    "    ...\n",
    "    normal scrapping...\n",
    "    ..."
   ]
  },
  {
   "cell_type": "code",
   "execution_count": null,
   "metadata": {},
   "outputs": [],
   "source": [
    "# Check if Connection is ready\n",
    "# if not then wait for 60sec and try again (with countdown from 60 to 0)\n",
    "    try:\n",
    "        page = requests.get (link)\n",
    "    except requests.ConnectionError:\n",
    "        print (\"No Connection - Wait für Reconnection...\")\n",
    "        for i in range (60, 0, -1):\n",
    "            sys.stdout.write (str (i) + ' ')\n",
    "            sys.stdout.flush ()\n",
    "            time.sleep (1)\n",
    "        page = requests.get (link)"
   ]
  },
  {
   "cell_type": "code",
   "execution_count": null,
   "metadata": {},
   "outputs": [],
   "source": [
    "# Read with Selenium when necessary due the specific homepage\n",
    "import time\n",
    "import os\n",
    "from selenium import webdriver\n",
    "from bs4 import BeautifulSoup\n",
    "\n",
    "driver = webdriver.Chrome(os.getcwd() + '/chromedriver')\n",
    "link = \"http://financials.morningstar.com\"\n",
    "driver.get(link)\n",
    "time.sleep(2)\n",
    "soup = BeautifulSoup(driver.page_source, 'html.parser')\n",
    "    ...\n",
    "    normal scrapping...\n",
    "    ...\n",
    "time.sleep (2)\n",
    "driver.quit ()"
   ]
  },
  {
   "cell_type": "code",
   "execution_count": null,
   "metadata": {},
   "outputs": [],
   "source": [
    "# Search for specific table with ID\n",
    "# Read all Rows in Table\n",
    "# Read through all rows and print out the text, with strip and some replacements\n",
    "table = soup.find('table', id=\"analyst_opinion_table\")\n",
    "rows = table.findAll('tr')\n",
    "for i in rows: i.text.strip().replace(\"—\",\"\").replace(\"\\n\",\"\")"
   ]
  },
  {
   "cell_type": "code",
   "execution_count": null,
   "metadata": {},
   "outputs": [],
   "source": [
    "# Search for specific ID\n",
    "# Read all table data\n",
    "# If specific table data with some classes\n",
    "# and If die ersten beiden Stellen > einem Wert\n",
    "# dann erweite das Dict mit dem Text aus dem Link aus HTML\n",
    "table  = soup.find(id=\"result_table_0\")\n",
    "for row  in table.find_all(\"td\"):\n",
    "    if row.get(\"class\") == [\"ellipsis\", \"nobr\", \"new\", \"padding-right-5\"]:\n",
    "        if row.text.strip().capitalize()[0:2].upper() >= char:\n",
    "            index_stocks[row.find(\"a\")[\"href\"][1:]] = row.text.strip().capitalize()"
   ]
  },
  {
   "cell_type": "code",
   "execution_count": null,
   "metadata": {},
   "outputs": [],
   "source": [
    "# Classical read from a table\n",
    "# Search for Divs with specific class\n",
    "# Read all Divs - all Rows tr - all Data td\n",
    "# And append it to a list(-row)\n",
    "table = soup.find_all (\"div\", class_=\"column twothirds table\")\n",
    "for i in table:\n",
    "    for j in i.find_all (\"tr\"):\n",
    "        row = []\n",
    "        for k in j.find_all (\"td\"):\n",
    "            row.append (k.text.strip ())\n",
    "        output_temp.append (row)"
   ]
  },
  {
   "cell_type": "code",
   "execution_count": null,
   "metadata": {},
   "outputs": [],
   "source": [
    "# Search for all H3-Elemente mit bestimmter Class\n",
    "# Wenn ein bestimmter Text vorkommt, dann verarbeite den Textinhalt weiter\n",
    "table = soup.find_all (\"h3\", class_=\"arhead undef\")\n",
    "    for i in table:\n",
    "        if \"Bilanz\" in i.text and \"Geschäftsjahresende\" in i.text:\n",
    "            output_temp[0][0] = \"Bilanz in Mio. \" + i.text.strip ()[18:22] + \" per \" + i.text.strip ()[-7:-1]\n",
    "            bilanz_english = \"Balance Sheet in M \" + i.text.strip ()[18:22] + \" per \" + i.text.strip ()[-7:-1]"
   ]
  },
  {
   "cell_type": "code",
   "execution_count": null,
   "metadata": {},
   "outputs": [],
   "source": [
    "#Delete all Chars which are not digits\n",
    "erg = re.sub(\"\\D\", \"\", erg)"
   ]
  }
 ],
 "metadata": {
  "kernelspec": {
   "display_name": "Python 3",
   "language": "python",
   "name": "python3"
  },
  "language_info": {
   "codemirror_mode": {
    "name": "ipython",
    "version": 3
   },
   "file_extension": ".py",
   "mimetype": "text/x-python",
   "name": "python",
   "nbconvert_exporter": "python",
   "pygments_lexer": "ipython3",
   "version": "3.7.7"
  }
 },
 "nbformat": 4,
 "nbformat_minor": 4
}
