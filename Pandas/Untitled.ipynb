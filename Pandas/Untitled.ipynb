{
 "cells": [
  {
   "cell_type": "code",
   "execution_count": 2,
   "metadata": {},
   "outputs": [],
   "source": [
    "import pandas as pd\n",
    "df = pd.read_excel (\"C:\\TEMP\\COVID-19-geographic-disbtribution-worldwide (1).xlsx\")\n",
    "pd.set_option (\"display.max_columns\", 100)  # dadurch werden alle Spalten ausgegeben\n",
    "pd.set_option (\"display.max_rows\", 100)  # dadurch werden alle Zeilen ausgegeben"
   ]
  },
  {
   "cell_type": "code",
   "execution_count": 6,
   "metadata": {},
   "outputs": [
    {
     "data": {
      "text/plain": [
       "(13211, 11)"
      ]
     },
     "execution_count": 6,
     "metadata": {},
     "output_type": "execute_result"
    }
   ],
   "source": [
    "# Zeilenanzahl, Spaltenanzahl\n",
    "df.shape"
   ]
  },
  {
   "cell_type": "code",
   "execution_count": 7,
   "metadata": {},
   "outputs": [
    {
     "name": "stdout",
     "output_type": "stream",
     "text": [
      "<class 'pandas.core.frame.DataFrame'>\n",
      "RangeIndex: 13211 entries, 0 to 13210\n",
      "Data columns (total 11 columns):\n",
      " #   Column                   Non-Null Count  Dtype         \n",
      "---  ------                   --------------  -----         \n",
      " 0   dateRep                  13211 non-null  datetime64[ns]\n",
      " 1   day                      13211 non-null  int64         \n",
      " 2   month                    13211 non-null  int64         \n",
      " 3   year                     13211 non-null  int64         \n",
      " 4   cases                    13211 non-null  int64         \n",
      " 5   deaths                   13211 non-null  int64         \n",
      " 6   countriesAndTerritories  13211 non-null  object        \n",
      " 7   geoId                    13168 non-null  object        \n",
      " 8   countryterritoryCode     13067 non-null  object        \n",
      " 9   popData2018              13095 non-null  float64       \n",
      " 10  continentExp             13211 non-null  object        \n",
      "dtypes: datetime64[ns](1), float64(1), int64(5), object(4)\n",
      "memory usage: 1.1+ MB\n"
     ]
    }
   ],
   "source": [
    "# Infos zu Spalten\n",
    "df.info()"
   ]
  },
  {
   "cell_type": "code",
   "execution_count": null,
   "metadata": {},
   "outputs": [],
   "source": []
  }
 ],
 "metadata": {
  "kernelspec": {
   "display_name": "Python 3",
   "language": "python",
   "name": "python3"
  },
  "language_info": {
   "codemirror_mode": {
    "name": "ipython",
    "version": 3
   },
   "file_extension": ".py",
   "mimetype": "text/x-python",
   "name": "python",
   "nbconvert_exporter": "python",
   "pygments_lexer": "ipython3",
   "version": "3.7.7"
  }
 },
 "nbformat": 4,
 "nbformat_minor": 4
}
