{
 "cells": [
  {
   "cell_type": "code",
   "execution_count": null,
   "outputs": [],
   "source": [
    "import pandas as pd\n",
    "df = pd.read_excel (\"C:\\TEMP\\COVID-19-geographic-disbtribution-worldwide (1).xlsx\")\n",
    "pd.set_option (\"display.max_columns\", 100)  # dadurch werden alle Spalten ausgegeben\n",
    "pd.set_option (\"display.max_rows\", 100)  # dadurch werden alle Zeilen ausgegeben"
   ],
   "metadata": {
    "collapsed": false,
    "pycharm": {
     "name": "#%%\n",
     "is_executing": false
    }
   }
  },
  {
   "cell_type": "code",
   "execution_count": null,
   "outputs": [],
   "source": [
    "# Spaltennamen ändern\n",
    "df.rename(columns={\"day\":\"Tag\",\"month\":\"Monat\",\"year\":\"Jahr\"}, inplace=True)\n",
    "df"
   ],
   "metadata": {
    "collapsed": false,
    "pycharm": {
     "name": "#%%\n",
     "is_executing": false
    }
   }
  },
  {
   "cell_type": "code",
   "execution_count": 40,
   "outputs": [
    {
     "data": {
      "text/plain": "Index(['dateRep', 'Tag', 'Monat', 'Jahr', 'cases', 'deaths',\n       'countriesAndTerritories', 'geoId', 'countryterritoryCode',\n       'popData2018', 'continentExp', 'geoID'],\n      dtype='object')"
     },
     "metadata": {},
     "output_type": "execute_result",
     "execution_count": 40
    }
   ],
   "source": [
    "#Ausgabe aller Spalten\n",
    "df.columns"
   ],
   "metadata": {
    "collapsed": false,
    "pycharm": {
     "name": "#%%\n",
     "is_executing": false
    }
   }
  },
  {
   "cell_type": "code",
   "execution_count": 45,
   "outputs": [
    {
     "data": {
      "text/plain": "deaths     2\nTag       24\nName: 2, dtype: object"
     },
     "metadata": {},
     "output_type": "execute_result",
     "execution_count": 45
    }
   ],
   "source": [
    "df.loc[2,[\"deaths\",\"Tag\"]]\n"
   ],
   "metadata": {
    "collapsed": false,
    "pycharm": {
     "name": "#%%\n",
     "is_executing": false
    }
   }
  },
  {
   "cell_type": "code",
   "execution_count": 38,
   "outputs": [
    {
     "data": {
      "text/plain": "dateRep                    2020-04-24 00:00:00\nTag                                         24\nMonat                                        4\nJahr                                      2099\ncases                                      105\ndeaths                                       2\ncountriesAndTerritories            Afghanistan\ngeoId                                       AF\ncountryterritoryCode                       AFG\npopData2018                        3.71724e+07\ncontinentExp                              Asia\ngeoID                                      XYZ\nName: 2, dtype: object"
     },
     "metadata": {},
     "output_type": "execute_result",
     "execution_count": 38
    }
   ],
   "source": [
    "df.loc[2, [\"geoID\",\"Jahr\"]] = [\"XYZ\",\"2099\"]\n",
    "df.loc[2]\n",
    "\n",
    "\n",
    "\n"
   ],
   "metadata": {
    "collapsed": false,
    "pycharm": {
     "name": "#%% Inhalte ändern für den 2.Satz für 2 Attribute\n",
     "is_executing": false
    }
   }
  }
 ],
 "metadata": {
  "kernelspec": {
   "display_name": "Python 3",
   "language": "python",
   "name": "python3"
  },
  "language_info": {
   "codemirror_mode": {
    "name": "ipython",
    "version": 2
   },
   "file_extension": ".py",
   "mimetype": "text/x-python",
   "name": "python",
   "nbconvert_exporter": "python",
   "pygments_lexer": "ipython2",
   "version": "2.7.6"
  },
  "pycharm": {
   "stem_cell": {
    "cell_type": "raw",
    "source": [],
    "metadata": {
     "collapsed": false
    }
   }
  }
 },
 "nbformat": 4,
 "nbformat_minor": 0
}
