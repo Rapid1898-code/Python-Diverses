{
 "cells": [
  {
   "cell_type": "code",
   "execution_count": null,
   "metadata": {},
   "outputs": [],
   "source": [
    "import pandas as pd\n",
    "df = pd.read_excel (\"C:\\TEMP\\COVID-19-geographic-disbtribution-worldwide (1).xlsx\")\n",
    "pd.set_option (\"display.max_columns\", 100)  # dadurch werden alle Spalten ausgegeben\n",
    "pd.set_option (\"display.max_rows\", 100)  # dadurch werden alle Zeilen ausgegeben"
   ]
  },
  {
   "cell_type": "code",
   "execution_count": null,
   "metadata": {},
   "outputs": [],
   "source": [
    "# Zeilenanzahl, Spaltenanzahl\n",
    "df.shape"
   ]
  },
  {
   "cell_type": "code",
   "execution_count": null,
   "metadata": {
    "scrolled": true
   },
   "outputs": [],
   "source": [
    "# Infos zu Spalten\n",
    "df.info()"
   ]
  },
  {
   "cell_type": "code",
   "execution_count": null,
   "metadata": {},
   "outputs": [],
   "source": [
    "# Ausgabe der ersten 5 Zeilen\n",
    "df.head(5)"
   ]
  },
  {
   "cell_type": "code",
   "execution_count": null,
   "metadata": {},
   "outputs": [],
   "source": [
    "# Ausgbe der letzten 5 Zeilen\n",
    "df.tail(5)"
   ]
  },
  {
   "cell_type": "code",
   "execution_count": null,
   "metadata": {},
   "outputs": [],
   "source": [
    "#  Ausgabe einer bestimmten Spalte (2 verschiedene Möglichkeiten)\n",
    "df[\"countriesAndTerritories\"]\n",
    "df.countriesAndTerritories[0:5]"
   ]
  },
  {
   "cell_type": "code",
   "execution_count": null,
   "metadata": {},
   "outputs": [],
   "source": [
    "# Wenn nur eine Spalte ausgewählt ist, handelt es sich um eine Serie  \n",
    "type(df[\"countriesAndTerritories\"])"
   ]
  },
  {
   "cell_type": "code",
   "execution_count": null,
   "metadata": {},
   "outputs": [],
   "source": [
    "df[[\"countriesAndTerritories\",\"geoId\"]][0:5]"
   ]
  },
  {
   "cell_type": "code",
   "execution_count": null,
   "metadata": {},
   "outputs": [],
   "source": [
    "# Ausgabe der Spaltennamen\n",
    "df.columns"
   ]
  },
  {
   "cell_type": "code",
   "execution_count": null,
   "metadata": {},
   "outputs": [],
   "source": [
    "# Ausgabe der Anzahl der Werte in einer Spalte\n",
    "df.countriesAndTerritories.value_counts()"
   ]
  },
  {
   "cell_type": "code",
   "execution_count": null,
   "metadata": {},
   "outputs": [],
   "source": [
    "# Outputs the First Row\n",
    "df.iloc[0]"
   ]
  },
  {
   "cell_type": "code",
   "execution_count": null,
   "metadata": {},
   "outputs": [],
   "source": [
    "# Ausgabe der ersten beiden Zeilen\n",
    "df.iloc[[0,1]]"
   ]
  },
  {
   "cell_type": "code",
   "execution_count": null,
   "metadata": {},
   "outputs": [],
   "source": [
    "# Ausgabe der ersten Spalte für die ersten beiden Zeilen\n",
    "df.iloc[[0,1],0]"
   ]
  },
  {
   "cell_type": "code",
   "execution_count": null,
   "metadata": {},
   "outputs": [],
   "source": [
    "# Ausgabe der ersten beiden Zeilen - mit den Spalten 6+7\n",
    "df.iloc[[0,1],[5,6]]"
   ]
  },
  {
   "cell_type": "code",
   "execution_count": null,
   "metadata": {},
   "outputs": [],
   "source": [
    "# Ausgabe der Spalten day + month für die ersten beiden Zeilen\n",
    "df.loc[[0,1],[\"day\",\"month\"]]"
   ]
  },
  {
   "cell_type": "code",
   "execution_count": null,
   "metadata": {},
   "outputs": [],
   "source": [
    "# Ausgabe der ersten 10 Zeilen für die Spalten day+month\n",
    "df.loc[0:10,[\"day\",\"month\"]][0:5]"
   ]
  },
  {
   "cell_type": "code",
   "execution_count": null,
   "metadata": {},
   "outputs": [],
   "source": [
    "# Ausgabe der ersten 10 Zeilen für die Spalten von day bis deaths\n",
    "df.loc[0:10,\"day\":\"deaths\"][0:5]"
   ]
  },
  {
   "cell_type": "code",
   "execution_count": null,
   "metadata": {},
   "outputs": [],
   "source": [
    "# Setzt Index auf eine bestimmte Spalte (ohne inplace wird es nicht angewandt - nur ausprobiert)\n",
    "df.set_index(\"countriesAndTerritories\", inplace=True)\n",
    "df[0:5]"
   ]
  },
  {
   "cell_type": "code",
   "execution_count": null,
   "metadata": {},
   "outputs": [],
   "source": [
    "# Abfrage auf den zuvor definierten Index\n",
    "df.loc[\"Germany\"][0:5]"
   ]
  },
  {
   "cell_type": "code",
   "execution_count": null,
   "metadata": {},
   "outputs": [],
   "source": [
    "# Absteigende Sortierung nach Index\n",
    "df.sort_index(ascending=False, inplace=True)\n",
    "df[0:5]"
   ]
  },
  {
   "cell_type": "code",
   "execution_count": null,
   "metadata": {},
   "outputs": [],
   "source": [
    "# Aufsteigende Sortierung nach Index\n",
    "df.sort_index(inplace=True)\n",
    "df[0:5]"
   ]
  },
  {
   "cell_type": "code",
   "execution_count": null,
   "metadata": {},
   "outputs": [],
   "source": [
    "# Index wird wieder zurückgesetzt\n",
    "df.reset_index(inplace=True)\n",
    "df[0:5]"
   ]
  },
  {
   "cell_type": "code",
   "execution_count": null,
   "metadata": {},
   "outputs": [],
   "source": [
    "# Filterung auf den Wert einer Spalte\n",
    "filt = (df[\"countriesAndTerritories\"] == \"Austria\")\n",
    "df[filt][0:5]"
   ]
  },
  {
   "cell_type": "code",
   "execution_count": null,
   "metadata": {},
   "outputs": [],
   "source": [
    "# Anwendung des Filters mit Ausgabew nur einer Spalte\n",
    "df.loc[filt, \"deaths\"][0:5]"
   ]
  },
  {
   "cell_type": "code",
   "execution_count": null,
   "metadata": {},
   "outputs": [],
   "source": [
    "# Filterung nach den 2 Ländern Austria und Germany\n",
    "filt2 = (df[\"countriesAndTerritories\"] == \"Austria\") | (df[\"countriesAndTerritories\"] == \"Germany\")\n",
    "df.loc[filt2][0:5]"
   ]
  },
  {
   "cell_type": "code",
   "execution_count": null,
   "metadata": {},
   "outputs": [],
   "source": [
    "# Filterung auf mehr als 100 Tote pro Tag mit Ausgabe von bestimmten Spalten\n",
    "\n",
    "high_deaths = (df[\"deaths\"] > 100)\n",
    "df.loc[high_deaths, [\"dateRep\",\"countriesAndTerritories\",\"deaths\"]][0:5]"
   ]
  },
  {
   "cell_type": "code",
   "execution_count": null,
   "metadata": {
    "scrolled": true
   },
   "outputs": [],
   "source": [
    "# Filterung auf mehrere Einträge aus einer Liste\n",
    "countries =[\"Austria\",\"Germany\",\"Switzerland\"]\n",
    "filt3 = df[\"countriesAndTerritories\"].isin(countries)\n",
    "df[filt3][0:5]\n"
   ]
  },
  {
   "cell_type": "code",
   "execution_count": null,
   "metadata": {
    "scrolled": true
   },
   "outputs": [],
   "source": [
    "# Änderung der Spaltenbezeichnung auf Großschreibung\n",
    "df.columns = [x.upper() for x in df.columns]\n",
    "df[0:2]"
   ]
  },
  {
   "cell_type": "code",
   "execution_count": null,
   "metadata": {},
   "outputs": [],
   "source": [
    "# Kleinschreibung der Überschrift und 2 Spalten umbenennen\n",
    "df.columns = [x.lower() for x in df.columns]\n",
    "df.rename(columns={\"countriesandterritories\":\"land\",\"continentexp\":\"continent\"},inplace=True)\n",
    "df[2:4]"
   ]
  },
  {
   "cell_type": "code",
   "execution_count": null,
   "metadata": {},
   "outputs": [],
   "source": [
    "# (1) Änderungen des Satzes mit Index=2 für land und year mit neuen Werten\n",
    "# (2) Änderungen des Satzes mit Index=3 für continent\n",
    "df.loc[2, [\"land\",\"year\"]] = [\"NewLand\",\"2099\"]\n",
    "df.loc[3,\"continent\"] =  \"NewCont\"\n",
    "df.loc[2:3]"
   ]
  },
  {
   "cell_type": "code",
   "execution_count": null,
   "metadata": {},
   "outputs": [],
   "source": [
    "# Spalte geoid auf Kleinschreibung umstellen\n",
    "df[\"geoid\"] = df[\"geoid\"].str.lower()\n",
    "df.loc[2:3]"
   ]
  },
  {
   "cell_type": "code",
   "execution_count": null,
   "metadata": {},
   "outputs": [],
   "source": [
    "df.columns"
   ]
  },
  {
   "cell_type": "code",
   "execution_count": null,
   "metadata": {},
   "outputs": [],
   "source": [
    "# Apply - kann auf Dataframe und Series angewandt werden\n",
    "# Verwendung einer Funktion für Elemente\n",
    "df[\"countryterritorycode\"][0:5].apply(len)"
   ]
  },
  {
   "cell_type": "code",
   "execution_count": null,
   "metadata": {},
   "outputs": [],
   "source": [
    "# Definition einer eigenen Funktion die dann auf die Spalte continent angewandt und neu zugeordnet wird\n",
    "def update_cont(continent):\n",
    "    return continent.upper()\n",
    "df[\"continent\"] = df[\"continent\"].apply(update_cont)\n",
    "df[0:3]"
   ]
  },
  {
   "cell_type": "code",
   "execution_count": null,
   "metadata": {},
   "outputs": [],
   "source": [
    "# Gleich Anwendung mit Lambda-Funktin - Spalte wird klein geschrieben\n",
    "df[\"continent\"] = df[\"continent\"].apply(lambda x: x.lower())\n",
    "df[0:3]"
   ]
  },
  {
   "cell_type": "code",
   "execution_count": null,
   "metadata": {},
   "outputs": [],
   "source": [
    "# Anwendung von Apply auf ein ganzes Dataframe => Zählung der Anzahl pro Spalte\n",
    "df.apply(len)[0:5]"
   ]
  },
  {
   "cell_type": "code",
   "execution_count": null,
   "metadata": {},
   "outputs": [],
   "source": [
    "# Kann auch auf die Spalten angewandet werden - d.h. hier bekommt man die Anzahl der einzelnen Zeilen\n",
    "df.apply(len, axis=\"columns\")[0:3]"
   ]
  },
  {
   "cell_type": "code",
   "execution_count": null,
   "metadata": {},
   "outputs": [],
   "source": [
    "df.columns"
   ]
  },
  {
   "cell_type": "code",
   "execution_count": null,
   "metadata": {},
   "outputs": [],
   "source": [
    "# durch map erfolgt  Umbennenung der von Austria und Germany\n",
    "# alle anderen Länder werden aber auf NaN geändert\n",
    "df[\"countryterritorycode\"].map({\"Austria\":\"Österreich\",\"Germany\":\"Deutschland\"})"
   ]
  },
  {
   "cell_type": "code",
   "execution_count": null,
   "metadata": {},
   "outputs": [],
   "source": [
    "# mit replace werden die anderen Felder nicht angegriffen\n",
    "df[\"countriesAndTerritories\"] = df[\"land\"].replace({\"Austria\":\"Österreich\",\"Germany\":\"Deutschland\"})\n",
    "df[0:3]"
   ]
  },
  {
   "cell_type": "code",
   "execution_count": null,
   "metadata": {},
   "outputs": [],
   "source": [
    "# Neu Spalte hinufügen am Ende des Dataframe\n",
    "df[\"fullgeo\"] = df[\"geoid\"] + df[\"countryterritorycode\"]\n",
    "df[0:3]"
   ]
  },
  {
   "cell_type": "code",
   "execution_count": null,
   "metadata": {},
   "outputs": [],
   "source": [
    "# Löschen der beiden Spalten geoid und countryterritorycode\n",
    "df.drop(columns=[\"geoid\",\"countryterritorycode\"], inplace=True)"
   ]
  },
  {
   "cell_type": "code",
   "execution_count": null,
   "metadata": {},
   "outputs": [],
   "source": [
    "df[0:3]"
   ]
  },
  {
   "cell_type": "code",
   "execution_count": null,
   "metadata": {},
   "outputs": [],
   "source": [
    "# Neuer Satz wird hinzugefügt\n",
    "df.append({\"land\":\"AAANeuesLand\"},ignore_index=True).tail(3)"
   ]
  },
  {
   "cell_type": "code",
   "execution_count": null,
   "metadata": {},
   "outputs": [],
   "source": [
    "# Zusammenfügen von 2 Dataframes - Index muss ignoriert werden\n",
    "# df.append(df2, ignore_index=True)"
   ]
  },
  {
   "cell_type": "code",
   "execution_count": null,
   "metadata": {},
   "outputs": [],
   "source": [
    "# alle Zeilen mit land = Zimbabwe werden gelöscht\n",
    "filt = df[\"land\"] == \"Zimbabwe\"\n",
    "df.drop(index=df[filt].index)[5:]"
   ]
  },
  {
   "cell_type": "code",
   "execution_count": null,
   "metadata": {},
   "outputs": [],
   "source": [
    "# Sortierung nach einer Spalte aufsteigend\n",
    "df.sort_values(by=\"daterep\")"
   ]
  },
  {
   "cell_type": "code",
   "execution_count": null,
   "metadata": {},
   "outputs": [],
   "source": [
    "# Sortierung nach einer Spalte absteigend\n",
    "df.sort_values(by=\"daterep\", ascending=False)"
   ]
  },
  {
   "cell_type": "code",
   "execution_count": null,
   "metadata": {},
   "outputs": [],
   "source": [
    "# Sortierung nach 2 Argumenten absteigend - zuerst nach dateRep und dann nach cases\n",
    "df.sort_values(by=[\"daterep\",\"cases\"], ascending=False)"
   ]
  },
  {
   "cell_type": "code",
   "execution_count": null,
   "metadata": {},
   "outputs": [],
   "source": [
    "# Sortierung nach 2 Argumenten absteigend - zuerst nach dateRep und dann nach cases - \n",
    "# aber der erste Wert absteigend und der zweite aufsteigend\n",
    "# durch inplace = True erfolgt die Sortierung dauerhaft im Dataframe\n",
    "df.sort_values(by=[\"daterep\",\"cases\"], ascending=[False,True], inplace=True)"
   ]
  },
  {
   "cell_type": "code",
   "execution_count": null,
   "metadata": {},
   "outputs": [],
   "source": [
    "# Sortierung wird wieder rückgängig gemacht (indem Sortierung nach dem Index erfolgt)\n",
    "df.sort_index()"
   ]
  },
  {
   "cell_type": "code",
   "execution_count": null,
   "metadata": {},
   "outputs": [],
   "source": [
    "# Es können auch einzelne Series sortiert werden - und nicht das ganze Dataframe\n",
    "# Hier die Spalte Land absteigend\n",
    "df[\"land\"].sort_values(ascending=False)"
   ]
  },
  {
   "cell_type": "code",
   "execution_count": null,
   "metadata": {},
   "outputs": [],
   "source": [
    "# Ausgabe der 5 höchsten Werte in der deaths Spalte\n",
    "df[\"deaths\"].nlargest(5)"
   ]
  },
  {
   "cell_type": "code",
   "execution_count": null,
   "metadata": {},
   "outputs": [],
   "source": [
    "# Ausgabe der 5 höchsten Werte in der death Spalte - aber mit allen Werten\n",
    "df.nlargest(5, \"deaths\")"
   ]
  },
  {
   "cell_type": "code",
   "execution_count": null,
   "metadata": {},
   "outputs": [],
   "source": [
    "# Ausgabe der 5 kleinsten Werte in der popdata2018 Spalte\n",
    "df.nsmallest(5, \"popdata2018\")"
   ]
  },
  {
   "cell_type": "code",
   "execution_count": null,
   "metadata": {},
   "outputs": [],
   "source": [
    "# Medianwert für die Spalte popdata2018\n",
    "df[\"popdata2018\"].median()"
   ]
  },
  {
   "cell_type": "code",
   "execution_count": null,
   "metadata": {},
   "outputs": [],
   "source": [
    "# Medianwert für alle (möglichen) Werte bzw. welche float64 sind\n",
    "df.median()"
   ]
  },
  {
   "cell_type": "code",
   "execution_count": null,
   "metadata": {},
   "outputs": [],
   "source": [
    "# Ausgabe verschiedener statistischer Werte für den ganzen Dataframe\n",
    "df.describe()"
   ]
  },
  {
   "cell_type": "code",
   "execution_count": null,
   "metadata": {},
   "outputs": [],
   "source": [
    "# Anzahl der Sätze pro Land\n",
    "df[\"land\"].value_counts()"
   ]
  },
  {
   "cell_type": "code",
   "execution_count": null,
   "metadata": {},
   "outputs": [],
   "source": [
    "# Ausgabe von vbalue_counts in Prozentwerte (34% Europa, 26% Asia, usw.) durch normalize=True\n",
    "df[\"continent\"].value_counts(normalize=True)"
   ]
  },
  {
   "cell_type": "code",
   "execution_count": null,
   "metadata": {},
   "outputs": [],
   "source": [
    "df[\"land\"].value_counts()"
   ]
  },
  {
   "cell_type": "code",
   "execution_count": null,
   "metadata": {},
   "outputs": [],
   "source": [
    "# Gruppierung nach Spalte Land\n",
    "land_grp = df.groupby([\"land\"])\n",
    "land_grp"
   ]
  },
  {
   "cell_type": "code",
   "execution_count": null,
   "metadata": {},
   "outputs": [],
   "source": [
    "# Zugriff auf die Gruppierung und Auswahl eines Landes\n",
    "land_grp.get_group(\"Austria\")"
   ]
  },
  {
   "cell_type": "code",
   "execution_count": null,
   "metadata": {},
   "outputs": [],
   "source": [
    "# gleiches Ergebnis auch durch einen Filter erreichbar\n",
    "filt = df[\"land\"] == \"Austria\"\n",
    "df.loc[filt]"
   ]
  },
  {
   "cell_type": "code",
   "execution_count": null,
   "metadata": {},
   "outputs": [],
   "source": [
    "# Ausgabe der maximalen deaths nur für Österreich\n",
    "filt = df[\"land\"] == \"Austria\"\n",
    "df.loc[filt][\"deaths\"].value_counts()"
   ]
  },
  {
   "cell_type": "code",
   "execution_count": null,
   "metadata": {},
   "outputs": [],
   "source": [
    "# Gruppierung nach land und Auswertung dieser Gruppierung nach der Spalte deaths mit value_counts\n",
    "land_grp[\"deaths\"].value_counts().head(50)"
   ]
  },
  {
   "cell_type": "code",
   "execution_count": null,
   "metadata": {},
   "outputs": [],
   "source": [
    "# Ausgabe des Wertes für drei Ländern\n",
    "land_grp[\"deaths\"].value_counts().loc[[\"Austria\",\"Germany\",\"Switzerland\"]]"
   ]
  },
  {
   "cell_type": "code",
   "execution_count": null,
   "metadata": {},
   "outputs": [],
   "source": [
    "# Gruppierung nach Ländern mit Ausgabe von Median pro Land\n",
    "land_grp[\"cases\"].median()"
   ]
  },
  {
   "cell_type": "code",
   "execution_count": null,
   "metadata": {},
   "outputs": [],
   "source": [
    "# Gruppierung nach Ländern mit Ausgabe von Median mit Einschränkung auf 3 Länder\n",
    "land_grp[\"cases\"].median().loc[[\"Austria\",\"Germany\",\"Switzerland\"]]"
   ]
  },
  {
   "cell_type": "code",
   "execution_count": 361,
   "metadata": {},
   "outputs": [
    {
     "data": {
      "text/html": [
       "<div>\n",
       "<style scoped>\n",
       "    .dataframe tbody tr th:only-of-type {\n",
       "        vertical-align: middle;\n",
       "    }\n",
       "\n",
       "    .dataframe tbody tr th {\n",
       "        vertical-align: top;\n",
       "    }\n",
       "\n",
       "    .dataframe thead th {\n",
       "        text-align: right;\n",
       "    }\n",
       "</style>\n",
       "<table border=\"1\" class=\"dataframe\">\n",
       "  <thead>\n",
       "    <tr style=\"text-align: right;\">\n",
       "      <th></th>\n",
       "      <th>median</th>\n",
       "      <th>mean</th>\n",
       "    </tr>\n",
       "    <tr>\n",
       "      <th>land</th>\n",
       "      <th></th>\n",
       "      <th></th>\n",
       "    </tr>\n",
       "  </thead>\n",
       "  <tbody>\n",
       "    <tr>\n",
       "      <th>Austria</th>\n",
       "      <td>2.0</td>\n",
       "      <td>128.254237</td>\n",
       "    </tr>\n",
       "    <tr>\n",
       "      <th>Germany</th>\n",
       "      <td>7.0</td>\n",
       "      <td>1306.567797</td>\n",
       "    </tr>\n",
       "    <tr>\n",
       "      <th>Switzerland</th>\n",
       "      <td>0.5</td>\n",
       "      <td>244.161017</td>\n",
       "    </tr>\n",
       "  </tbody>\n",
       "</table>\n",
       "</div>"
      ],
      "text/plain": [
       "             median         mean\n",
       "land                            \n",
       "Austria         2.0   128.254237\n",
       "Germany         7.0  1306.567797\n",
       "Switzerland     0.5   244.161017"
      ]
     },
     "execution_count": 361,
     "metadata": {},
     "output_type": "execute_result"
    }
   ],
   "source": [
    "# Gruppierung nach mehreren Statistiken und Einschränkung auf Ländern\n",
    "land_grp[\"cases\"].agg([\"median\",\"mean\"]).loc[[\"Austria\",\"Germany\",\"Switzerland\"]]b"
   ]
  },
  {
   "cell_type": "code",
   "execution_count": 442,
   "metadata": {},
   "outputs": [
    {
     "data": {
      "text/html": [
       "<div>\n",
       "<style scoped>\n",
       "    .dataframe tbody tr th:only-of-type {\n",
       "        vertical-align: middle;\n",
       "    }\n",
       "\n",
       "    .dataframe tbody tr th {\n",
       "        vertical-align: top;\n",
       "    }\n",
       "\n",
       "    .dataframe thead th {\n",
       "        text-align: right;\n",
       "    }\n",
       "</style>\n",
       "<table border=\"1\" class=\"dataframe\">\n",
       "  <thead>\n",
       "    <tr style=\"text-align: right;\">\n",
       "      <th></th>\n",
       "      <th>day</th>\n",
       "      <th>month</th>\n",
       "      <th>cases</th>\n",
       "      <th>deaths</th>\n",
       "      <th>popdata2018</th>\n",
       "    </tr>\n",
       "    <tr>\n",
       "      <th>land</th>\n",
       "      <th></th>\n",
       "      <th></th>\n",
       "      <th></th>\n",
       "      <th></th>\n",
       "      <th></th>\n",
       "    </tr>\n",
       "  </thead>\n",
       "  <tbody>\n",
       "    <tr>\n",
       "      <th>Afghanistan</th>\n",
       "      <td>17.0</td>\n",
       "      <td>4.0</td>\n",
       "      <td>33.0</td>\n",
       "      <td>1.0</td>\n",
       "      <td>37172386.0</td>\n",
       "    </tr>\n",
       "    <tr>\n",
       "      <th>Albania</th>\n",
       "      <td>16.5</td>\n",
       "      <td>4.0</td>\n",
       "      <td>13.5</td>\n",
       "      <td>0.0</td>\n",
       "      <td>2866376.0</td>\n",
       "    </tr>\n",
       "    <tr>\n",
       "      <th>Algeria</th>\n",
       "      <td>17.0</td>\n",
       "      <td>4.0</td>\n",
       "      <td>65.0</td>\n",
       "      <td>4.0</td>\n",
       "      <td>42228429.0</td>\n",
       "    </tr>\n",
       "    <tr>\n",
       "      <th>Andorra</th>\n",
       "      <td>17.0</td>\n",
       "      <td>4.0</td>\n",
       "      <td>16.0</td>\n",
       "      <td>1.0</td>\n",
       "      <td>77006.0</td>\n",
       "    </tr>\n",
       "    <tr>\n",
       "      <th>Angola</th>\n",
       "      <td>14.0</td>\n",
       "      <td>4.0</td>\n",
       "      <td>2.0</td>\n",
       "      <td>0.0</td>\n",
       "      <td>30809762.0</td>\n",
       "    </tr>\n",
       "    <tr>\n",
       "      <th>...</th>\n",
       "      <td>...</td>\n",
       "      <td>...</td>\n",
       "      <td>...</td>\n",
       "      <td>...</td>\n",
       "      <td>...</td>\n",
       "    </tr>\n",
       "    <tr>\n",
       "      <th>Vietnam</th>\n",
       "      <td>13.0</td>\n",
       "      <td>3.0</td>\n",
       "      <td>4.0</td>\n",
       "      <td>0.0</td>\n",
       "      <td>95540395.0</td>\n",
       "    </tr>\n",
       "    <tr>\n",
       "      <th>Western_Sahara</th>\n",
       "      <td>26.0</td>\n",
       "      <td>4.0</td>\n",
       "      <td>6.0</td>\n",
       "      <td>0.0</td>\n",
       "      <td>NaN</td>\n",
       "    </tr>\n",
       "    <tr>\n",
       "      <th>Yemen</th>\n",
       "      <td>10.0</td>\n",
       "      <td>4.0</td>\n",
       "      <td>1.0</td>\n",
       "      <td>0.0</td>\n",
       "      <td>28498687.0</td>\n",
       "    </tr>\n",
       "    <tr>\n",
       "      <th>Zambia</th>\n",
       "      <td>21.0</td>\n",
       "      <td>4.0</td>\n",
       "      <td>3.0</td>\n",
       "      <td>0.0</td>\n",
       "      <td>17351822.0</td>\n",
       "    </tr>\n",
       "    <tr>\n",
       "      <th>Zimbabwe</th>\n",
       "      <td>19.0</td>\n",
       "      <td>4.0</td>\n",
       "      <td>1.0</td>\n",
       "      <td>0.0</td>\n",
       "      <td>14439018.0</td>\n",
       "    </tr>\n",
       "  </tbody>\n",
       "</table>\n",
       "<p>207 rows × 5 columns</p>\n",
       "</div>"
      ],
      "text/plain": [
       "                 day  month  cases  deaths  popdata2018\n",
       "land                                                   \n",
       "Afghanistan     17.0    4.0   33.0     1.0   37172386.0\n",
       "Albania         16.5    4.0   13.5     0.0    2866376.0\n",
       "Algeria         17.0    4.0   65.0     4.0   42228429.0\n",
       "Andorra         17.0    4.0   16.0     1.0      77006.0\n",
       "Angola          14.0    4.0    2.0     0.0   30809762.0\n",
       "...              ...    ...    ...     ...          ...\n",
       "Vietnam         13.0    3.0    4.0     0.0   95540395.0\n",
       "Western_Sahara  26.0    4.0    6.0     0.0          NaN\n",
       "Yemen           10.0    4.0    1.0     0.0   28498687.0\n",
       "Zambia          21.0    4.0    3.0     0.0   17351822.0\n",
       "Zimbabwe        19.0    4.0    1.0     0.0   14439018.0\n",
       "\n",
       "[207 rows x 5 columns]"
      ]
     },
     "execution_count": 442,
     "metadata": {},
     "output_type": "execute_result"
    }
   ],
   "source": [
    "# Zuerste Filterung aller 0-Werte und dann Gruppierung nach Land und Ausgabe nach median()\n",
    "non_zero_df = df[df[\"cases\"]!=0]\n",
    "land_grp = non_zero_df.groupby([\"land\"])\n",
    "land_grp.median()"
   ]
  }
 ],
 "metadata": {
  "kernelspec": {
   "display_name": "Python 3",
   "language": "python",
   "name": "python3"
  },
  "language_info": {
   "codemirror_mode": {
    "name": "ipython",
    "version": 3
   },
   "file_extension": ".py",
   "mimetype": "text/x-python",
   "name": "python",
   "nbconvert_exporter": "python",
   "pygments_lexer": "ipython3",
   "version": "3.7.7"
  }
 },
 "nbformat": 4,
 "nbformat_minor": 4
}
